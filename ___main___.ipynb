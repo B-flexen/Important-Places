{
 "cells": [
  {
   "cell_type": "code",
   "execution_count": 1,
   "metadata": {},
   "outputs": [],
   "source": [
    "import tkinter as tk\n",
    "import argparse\n",
    "from tkinter import ttk\n",
    "from videoplayer_widget import videoplayer\n",
    "from moors_vis import *\n",
    "from mars_vis import *\n",
    "from PIL import ImageTk, Image\n",
    "from matplotlib.backends.backend_tkagg import FigureCanvasTkAgg\n",
    "from matplotlib.figure import Figure"
   ]
  },
  {
   "cell_type": "code",
   "execution_count": 6,
   "metadata": {},
   "outputs": [
    {
     "name": "stderr",
     "output_type": "stream",
     "text": [
      "usage: ipykernel_launcher.py [-h] [-api_1 OPEN_WEATHER_API] [-api_2 NASA_API]\n",
      "ipykernel_launcher.py: error: unrecognized arguments: -f C:\\Users\\Windows\\AppData\\Roaming\\jupyter\\runtime\\kernel-23b02551-9b84-41ae-8b94-abe6df77a40e.json\n"
     ]
    },
    {
     "ename": "SystemExit",
     "evalue": "2",
     "output_type": "error",
     "traceback": [
      "An exception has occurred, use %tb to see the full traceback.\n",
      "\u001b[1;31mSystemExit\u001b[0m\u001b[1;31m:\u001b[0m 2\n"
     ]
    },
    {
     "name": "stderr",
     "output_type": "stream",
     "text": [
      "C:\\ProgramData\\Anaconda3\\lib\\site-packages\\IPython\\core\\interactiveshell.py:3275: UserWarning: To exit: use 'exit', 'quit', or Ctrl-D.\n",
      "  warn(\"To exit: use 'exit', 'quit', or Ctrl-D.\", stacklevel=1)\n"
     ]
    }
   ],
   "source": [
    "#commandline argument parser\n",
    "parser = argparse.ArgumentParser()\n",
    "\n",
    "parser.add_argument(\"-api_1\", \"--open_weather_api\", help = \"Enter a valid OpenWeather API key\")\n",
    "parser.add_argument(\"-api_2\", \"--nasa_api\", help = \"Enter a valid NASA open data API key\")\n",
    "#parser.add_argument(\"\")\n",
    "\n",
    "args = parser.parse_args()\n",
    "\n",
    "ow_api = args.open_weather_api\n",
    "#nasa_api = args.nasa_api\n"
   ]
  },
  {
   "cell_type": "code",
   "execution_count": null,
   "metadata": {},
   "outputs": [],
   "source": []
  },
  {
   "cell_type": "code",
   "execution_count": null,
   "metadata": {},
   "outputs": [],
   "source": [
    "root = tk.Tk() \n",
    "root.title(\"Tab Widget\") \n",
    "tab_control = ttk.Notebook(root)\n",
    "\n",
    "tab1 = ttk.Frame(tab_control) \n",
    "tab2 = ttk.Frame(tab_control)\n",
    "tab3 = ttk.Frame(tab_control)\n",
    "\n",
    "tab_control.add(tab1, text ='Intro') \n",
    "tab_control.add(tab2, text ='Colne Valley')\n",
    "tab_control.add(tab3, text ='Mars')\n",
    "tab_control.pack(expand = 1, fill =\"both\")"
   ]
  },
  {
   "cell_type": "code",
   "execution_count": null,
   "metadata": {},
   "outputs": [],
   "source": [
    "#Tab 1 - introduction page\n",
    "\n",
    "intro_text = \"\"\"I want to tell you about myself through the places that \\\n",
    "are important to me. They will tell you about my past, and my hopes \\\n",
    "(and fears) for the future. I have chosen four locations that are each \\\n",
    "significant to me for different reasons. For each of these locations I have \\\n",
    "taken up-to-date data and produced a visulisation. Some are more traditional \\\n",
    "scientific graphs and charts, others are more artistic. I hope to show how \\\n",
    "important place is to us as individuals, and the power of data to understand \\\n",
    "and represent those places. Please select one of the tabs above to continue.\"\"\"\n",
    "\n",
    "intro_label = ttk.Label(tab1, text = intro_text, wraplength=700, justify=\"center\")\n",
    "intro_label.grid(column = 0, row = 0, padx = 20, pady = 20, columnspan=2) "
   ]
  },
  {
   "cell_type": "code",
   "execution_count": null,
   "metadata": {},
   "outputs": [],
   "source": [
    "#Tab 2 - Colne Valley page\n",
    "\n",
    "marsden_text = \"\"\"I grew up in the colne valley in west Yorkshire \\\n",
    "on the edge of the pennines. The entire landscape means alot to me and \\\n",
    "has helped to shape who I am. I especially love the open moorland at the \\\n",
    "top of the valley. \\\n",
    "\n",
    "The image to the top right shows the colour scheme based on the current \\\n",
    "weather conditions in the colne valley and is updated every 24 hours. \\ \n",
    "The video bellow it shows the colour scheme based on the weather for the \\\n",
    "same place over all of 2019. Each frame is a 1 hour timestep. \"\"\"\n",
    "\n",
    "moors_text_lab = ttk.Label(tab2, text = marsden_text, wraplength=500, justify=\"center\")\n",
    "moors_text_lab.grid(column = 0, row = 0, padx = 20, pady = 20)\n",
    "\n",
    "im = ImageTk.PhotoImage(get_image(get_weather_data(\"Marsden\", ow_api)))\n",
    "colour_chart = ttk.Label(tab2, image = im)\n",
    "colour_chart.image = im #keep a reference to the image (otherwise it is garbage collected)\n",
    "colour_chart.grid(column = 1, row = 0, padx = 20, pady = 20)\n",
    "\n",
    "video_2019 = videoplayer(tab2, \"2019_weather_colour.mp4\")\n",
    "video_2019.grid(column = 1, row = 1)\n",
    "\n",
    "def update_colour_chart():\n",
    "    new_im = ImageTk.PhotoImage(get_image(get_weather_data()))\n",
    "    colour_chart.image = new_im\n",
    "    root.after(20000, update_colour_chart)\n",
    "\n"
   ]
  },
  {
   "cell_type": "code",
   "execution_count": null,
   "metadata": {},
   "outputs": [],
   "source": [
    "#Tab 3 - Mars page\n",
    "\n",
    "mars_text = \"\"\"I have always been fascinated by space: the wonder of the \\\n",
    "imense unknown and the sheer beauty the small amount we can actually \\\n",
    "witness. This fascination led me to study astrophysics at university and \\\n",
    "continues to fuel my desire to work in the space sector. \\\n",
    "\n",
    "A space is a very big place, I have decided to focus on mars. The graph ... \\\n",
    "shows the maximum, minimum and average atmospheric temperatures on the surface \\\n",
    "of mars for each of the past 7 sols (martian days) as measured by the ... \\\n",
    "lander. The image bellow shows ... \"\"\"\n",
    "\n",
    "mars_text_lab = ttk.Label(tab3, text = mars_text, wraplength=500, justify=\"center\")\n",
    "mars_text_lab.grid(column = 0, row = 0, padx = 20, pady = 20)\n",
    "\n",
    "mars_temp_plot = FigureCanvasTkAgg(get_mars_figure(mars_api), tab3)\n",
    "mars_temp_plot.get_tk_widget().grid(column=1, row =0)\n",
    "\n",
    "mars_photo_im = get_mars_photo(mars_api)\n",
    "mars_photo_im = mars_photo_im.resize((450, 350), Image.ANTIALIAS)\n",
    "mars_photo_im = ImageTk.PhotoImage(mars_photo_im)\n",
    "mars_photo_lab = ttk.Label(tab3, image = mars_photo_im)\n",
    "mars_photo_lab.image = mars_photo_im\n",
    "mars_photo_lab.grid(column = 1, row = 1)\n"
   ]
  },
  {
   "cell_type": "code",
   "execution_count": null,
   "metadata": {},
   "outputs": [],
   "source": [
    "#Tab 4\n",
    "\n",
    "hull_text = \"\"\"For the last four years, I have lived and studied in the city\n",
    "of Hull. Hull is situated on the Humber estuary and is historically a maritime\n",
    "city, and continues to be a significant freight and ferry port. One of my favourite\n",
    "places in the city centre is the marina.\n",
    "\n",
    "NOTE: This page is currently unfinished.\"\"\""
   ]
  },
  {
   "cell_type": "code",
   "execution_count": null,
   "metadata": {},
   "outputs": [],
   "source": [
    "update_colour_chart()\n",
    "root.mainloop()"
   ]
  },
  {
   "cell_type": "code",
   "execution_count": null,
   "metadata": {},
   "outputs": [],
   "source": []
  }
 ],
 "metadata": {
  "kernelspec": {
   "display_name": "Python 3",
   "language": "python",
   "name": "python3"
  },
  "language_info": {
   "codemirror_mode": {
    "name": "ipython",
    "version": 3
   },
   "file_extension": ".py",
   "mimetype": "text/x-python",
   "name": "python",
   "nbconvert_exporter": "python",
   "pygments_lexer": "ipython3",
   "version": "3.7.1"
  }
 },
 "nbformat": 4,
 "nbformat_minor": 2
}
